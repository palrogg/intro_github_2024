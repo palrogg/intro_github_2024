{
 "cells": [
  {
   "cell_type": "markdown",
   "metadata": {},
   "source": [
    "# Réunir des jeux de données\n",
    "\n",
    "L’OFSP actualise quotidiennement plusieurs tableaux de données sur le covid, listés [dans cette page](https://www.bag.admin.ch/bag/fr/home/krankheiten/ausbrueche-epidemien-pandemien/aktuelle-ausbrueche-epidemien/novel-cov/situation-schweiz-und-international.html).\n",
    "\n",
    "Dans ce notebook, on va réunir deux de ces jeux de données.\n"
   ]
  },
  {
   "cell_type": "code",
   "execution_count": 3,
   "metadata": {},
   "outputs": [],
   "source": [
    "import pandas as pd"
   ]
  },
  {
   "cell_type": "code",
   "execution_count": 5,
   "metadata": {
    "scrolled": true
   },
   "outputs": [
    {
     "name": "stderr",
     "output_type": "stream",
     "text": [
      "C:\\Users\\vonwysba\\AppData\\Local\\Temp\\ipykernel_26548\\3064216900.py:3: DtypeWarning: Columns (1,8) have mixed types. Specify dtype option on import or set low_memory=False.\n",
      "  df = pd.read_csv(\"data/Dashboards_1&2_COVID19_swiss_data_pv-2.csv\")\n"
     ]
    }
   ],
   "source": [
    "# On charge un fichier détaillé de l’OFSP dans sa version du 3 septembre 2020\n",
    "\n",
    "df = pd.read_csv(\"data/Dashboards_1&2_COVID19_swiss_data_pv-2.csv\")\n",
    "\n",
    "# En principe, on pouvait aussi charger la dernière version directement sur le site de l’OFSP.\n",
    "# Ça ne marche plus (mais vous pouvez essayer, on sait jamais).\n",
    "#df = pd.read_excel('https://www.bag.admin.ch/dam/bag/fr/dokumente/mt/k-und-i/aktuelle-ausbrueche-pandemien/2019-nCoV/covid-19-basisdaten-fallzahlen.xlsx.download.xlsx/Dashboards_1&2_COVID19_swiss_data_pv.xlsx')"
   ]
  },
  {
   "cell_type": "markdown",
   "metadata": {},
   "source": [
    "Pandas a dû vous afficher un avertissement selon laquelle «des colonnes ont des types mixtes». Ça veut dire qu’il n’a pas pu identifier clairement quelle colonne contient une date, un entier, des float, etc. On va examiner ça.\n"
   ]
  },
  {
   "cell_type": "code",
   "execution_count": 6,
   "metadata": {},
   "outputs": [
    {
     "data": {
      "text/plain": [
       "304255"
      ]
     },
     "execution_count": 6,
     "metadata": {},
     "output_type": "execute_result"
    }
   ],
   "source": [
    "# Combien de lignes en tout?\n",
    "len(df)"
   ]
  },
  {
   "cell_type": "code",
   "execution_count": 22,
   "metadata": {},
   "outputs": [
    {
     "data": {
      "text/html": [
       "<div>\n",
       "<style scoped>\n",
       "    .dataframe tbody tr th:only-of-type {\n",
       "        vertical-align: middle;\n",
       "    }\n",
       "\n",
       "    .dataframe tbody tr th {\n",
       "        vertical-align: top;\n",
       "    }\n",
       "\n",
       "    .dataframe thead th {\n",
       "        text-align: right;\n",
       "    }\n",
       "</style>\n",
       "<table border=\"1\" class=\"dataframe\">\n",
       "  <thead>\n",
       "    <tr style=\"text-align: right;\">\n",
       "      <th></th>\n",
       "      <th>date cas</th>\n",
       "      <th>canton</th>\n",
       "      <th>age</th>\n",
       "      <th>genre_num</th>\n",
       "      <th>genre</th>\n",
       "      <th>nouveaux cas</th>\n",
       "    </tr>\n",
       "  </thead>\n",
       "  <tbody>\n",
       "    <tr>\n",
       "      <th>16686</th>\n",
       "      <td>2020-09-02</td>\n",
       "      <td>ZH</td>\n",
       "      <td>40 - 49</td>\n",
       "      <td>1</td>\n",
       "      <td>homme</td>\n",
       "      <td>3</td>\n",
       "    </tr>\n",
       "    <tr>\n",
       "      <th>16687</th>\n",
       "      <td>2020-09-02</td>\n",
       "      <td>ZH</td>\n",
       "      <td>40 - 49</td>\n",
       "      <td>2</td>\n",
       "      <td>femme</td>\n",
       "      <td>2</td>\n",
       "    </tr>\n",
       "    <tr>\n",
       "      <th>16688</th>\n",
       "      <td>2020-09-02</td>\n",
       "      <td>ZH</td>\n",
       "      <td>50 - 59</td>\n",
       "      <td>1</td>\n",
       "      <td>homme</td>\n",
       "      <td>4</td>\n",
       "    </tr>\n",
       "    <tr>\n",
       "      <th>16689</th>\n",
       "      <td>2020-09-02</td>\n",
       "      <td>ZH</td>\n",
       "      <td>50 - 59</td>\n",
       "      <td>2</td>\n",
       "      <td>femme</td>\n",
       "      <td>1</td>\n",
       "    </tr>\n",
       "    <tr>\n",
       "      <th>16690</th>\n",
       "      <td>2020-09-02</td>\n",
       "      <td>ZH</td>\n",
       "      <td>70 - 79</td>\n",
       "      <td>1</td>\n",
       "      <td>homme</td>\n",
       "      <td>1</td>\n",
       "    </tr>\n",
       "  </tbody>\n",
       "</table>\n",
       "</div>"
      ],
      "text/plain": [
       "         date cas canton      age  genre_num  genre  nouveaux cas\n",
       "16686  2020-09-02     ZH  40 - 49          1  homme             3\n",
       "16687  2020-09-02     ZH  40 - 49          2  femme             2\n",
       "16688  2020-09-02     ZH  50 - 59          1  homme             4\n",
       "16689  2020-09-02     ZH  50 - 59          2  femme             1\n",
       "16690  2020-09-02     ZH  70 - 79          1  homme             1"
      ]
     },
     "execution_count": 22,
     "metadata": {},
     "output_type": "execute_result"
    }
   ],
   "source": [
    "df.tail()"
   ]
  },
  {
   "cell_type": "markdown",
   "metadata": {},
   "source": [
    "La colonne **replikation_dt** contient la date de mise à jour du fichier. On n’en a pas besoin. Même chose pour la colonne **Geschlecht**, qui est à double.\n"
   ]
  },
  {
   "cell_type": "code",
   "execution_count": 8,
   "metadata": {},
   "outputs": [],
   "source": [
    "del df[\"replikation_dt\"]\n",
    "del df[\"Geschlecht\"]"
   ]
  },
  {
   "cell_type": "markdown",
   "metadata": {},
   "source": [
    "Les autres colonnes sont expliquées dans un fichier de l’OFSP, on va leur donner un nom compréhensible…\n"
   ]
  },
  {
   "cell_type": "code",
   "execution_count": 10,
   "metadata": {},
   "outputs": [],
   "source": [
    "df.columns = [\n",
    "    \"date cas\",\n",
    "    \"canton\",\n",
    "    \"age\",\n",
    "    \"genre_num\",\n",
    "    \"genre\",\n",
    "    \"nouveaux cas\",\n",
    "    \"date décès\",\n",
    "    \"nouveaux décès\",\n",
    "]"
   ]
  },
  {
   "cell_type": "markdown",
   "metadata": {},
   "source": [
    "C’est mieux!\n",
    "\n",
    "Si on veut être sûr que les colonnes correspondent – par exemple pour un programme entièrement automatisé – on peut aussi utiliser la méthode suivante:\n"
   ]
  },
  {
   "cell_type": "code",
   "execution_count": 12,
   "metadata": {},
   "outputs": [],
   "source": [
    "df.rename(columns={\"fall_dt\": \"date cas\", \"ktn\": \"canton\"}, inplace=True)"
   ]
  },
  {
   "cell_type": "code",
   "execution_count": 10,
   "metadata": {},
   "outputs": [
    {
     "data": {
      "text/html": [
       "<div>\n",
       "<style scoped>\n",
       "    .dataframe tbody tr th:only-of-type {\n",
       "        vertical-align: middle;\n",
       "    }\n",
       "\n",
       "    .dataframe tbody tr th {\n",
       "        vertical-align: top;\n",
       "    }\n",
       "\n",
       "    .dataframe thead th {\n",
       "        text-align: right;\n",
       "    }\n",
       "</style>\n",
       "<table border=\"1\" class=\"dataframe\">\n",
       "  <thead>\n",
       "    <tr style=\"text-align: right;\">\n",
       "      <th></th>\n",
       "      <th>date cas</th>\n",
       "      <th>canton</th>\n",
       "      <th>age</th>\n",
       "      <th>genre_num</th>\n",
       "      <th>genre</th>\n",
       "      <th>nouveaux cas</th>\n",
       "      <th>date décès</th>\n",
       "      <th>nouveaux décès</th>\n",
       "    </tr>\n",
       "  </thead>\n",
       "  <tbody>\n",
       "    <tr>\n",
       "      <th>0</th>\n",
       "      <td>2020-02-24</td>\n",
       "      <td>TI</td>\n",
       "      <td>70 - 79</td>\n",
       "      <td>1</td>\n",
       "      <td>homme</td>\n",
       "      <td>1</td>\n",
       "      <td>NaN</td>\n",
       "      <td>0</td>\n",
       "    </tr>\n",
       "    <tr>\n",
       "      <th>1</th>\n",
       "      <td>2020-02-25</td>\n",
       "      <td>AG</td>\n",
       "      <td>20 - 29</td>\n",
       "      <td>1</td>\n",
       "      <td>homme</td>\n",
       "      <td>1</td>\n",
       "      <td>NaN</td>\n",
       "      <td>0</td>\n",
       "    </tr>\n",
       "    <tr>\n",
       "      <th>2</th>\n",
       "      <td>2020-02-26</td>\n",
       "      <td>BL</td>\n",
       "      <td>20 - 29</td>\n",
       "      <td>1</td>\n",
       "      <td>homme</td>\n",
       "      <td>1</td>\n",
       "      <td>NaN</td>\n",
       "      <td>0</td>\n",
       "    </tr>\n",
       "    <tr>\n",
       "      <th>3</th>\n",
       "      <td>2020-02-26</td>\n",
       "      <td>BS</td>\n",
       "      <td>20 - 29</td>\n",
       "      <td>2</td>\n",
       "      <td>femme</td>\n",
       "      <td>1</td>\n",
       "      <td>NaN</td>\n",
       "      <td>0</td>\n",
       "    </tr>\n",
       "    <tr>\n",
       "      <th>4</th>\n",
       "      <td>2020-02-26</td>\n",
       "      <td>GE</td>\n",
       "      <td>20 - 29</td>\n",
       "      <td>1</td>\n",
       "      <td>homme</td>\n",
       "      <td>1</td>\n",
       "      <td>NaN</td>\n",
       "      <td>0</td>\n",
       "    </tr>\n",
       "  </tbody>\n",
       "</table>\n",
       "</div>"
      ],
      "text/plain": [
       "     date cas canton      age  genre_num  genre  nouveaux cas date décès  \\\n",
       "0  2020-02-24     TI  70 - 79          1  homme             1        NaN   \n",
       "1  2020-02-25     AG  20 - 29          1  homme             1        NaN   \n",
       "2  2020-02-26     BL  20 - 29          1  homme             1        NaN   \n",
       "3  2020-02-26     BS  20 - 29          2  femme             1        NaN   \n",
       "4  2020-02-26     GE  20 - 29          1  homme             1        NaN   \n",
       "\n",
       "   nouveaux décès  \n",
       "0               0  \n",
       "1               0  \n",
       "2               0  \n",
       "3               0  \n",
       "4               0  "
      ]
     },
     "execution_count": 10,
     "metadata": {},
     "output_type": "execute_result"
    }
   ],
   "source": [
    "df.head()"
   ]
  },
  {
   "cell_type": "code",
   "execution_count": 14,
   "metadata": {},
   "outputs": [
    {
     "data": {
      "text/html": [
       "<div>\n",
       "<style scoped>\n",
       "    .dataframe tbody tr th:only-of-type {\n",
       "        vertical-align: middle;\n",
       "    }\n",
       "\n",
       "    .dataframe tbody tr th {\n",
       "        vertical-align: top;\n",
       "    }\n",
       "\n",
       "    .dataframe thead th {\n",
       "        text-align: right;\n",
       "    }\n",
       "</style>\n",
       "<table border=\"1\" class=\"dataframe\">\n",
       "  <thead>\n",
       "    <tr style=\"text-align: right;\">\n",
       "      <th></th>\n",
       "      <th>date cas</th>\n",
       "      <th>canton</th>\n",
       "      <th>age</th>\n",
       "      <th>genre_num</th>\n",
       "      <th>genre</th>\n",
       "      <th>nouveaux cas</th>\n",
       "      <th>date décès</th>\n",
       "      <th>nouveaux décès</th>\n",
       "    </tr>\n",
       "  </thead>\n",
       "  <tbody>\n",
       "    <tr>\n",
       "      <th>304250</th>\n",
       "      <td>NaN</td>\n",
       "      <td>ZH</td>\n",
       "      <td>80+</td>\n",
       "      <td>2</td>\n",
       "      <td>femme</td>\n",
       "      <td>0</td>\n",
       "      <td>2020-09-03</td>\n",
       "      <td>0</td>\n",
       "    </tr>\n",
       "    <tr>\n",
       "      <th>304251</th>\n",
       "      <td>NaN</td>\n",
       "      <td>ZH</td>\n",
       "      <td>80+</td>\n",
       "      <td>9</td>\n",
       "      <td>manquant</td>\n",
       "      <td>0</td>\n",
       "      <td>2020-09-03</td>\n",
       "      <td>0</td>\n",
       "    </tr>\n",
       "    <tr>\n",
       "      <th>304252</th>\n",
       "      <td>NaN</td>\n",
       "      <td>ZH</td>\n",
       "      <td>Unbekannt</td>\n",
       "      <td>1</td>\n",
       "      <td>homme</td>\n",
       "      <td>0</td>\n",
       "      <td>2020-09-03</td>\n",
       "      <td>0</td>\n",
       "    </tr>\n",
       "    <tr>\n",
       "      <th>304253</th>\n",
       "      <td>NaN</td>\n",
       "      <td>ZH</td>\n",
       "      <td>Unbekannt</td>\n",
       "      <td>2</td>\n",
       "      <td>femme</td>\n",
       "      <td>0</td>\n",
       "      <td>2020-09-03</td>\n",
       "      <td>0</td>\n",
       "    </tr>\n",
       "    <tr>\n",
       "      <th>304254</th>\n",
       "      <td>NaN</td>\n",
       "      <td>ZH</td>\n",
       "      <td>Unbekannt</td>\n",
       "      <td>9</td>\n",
       "      <td>manquant</td>\n",
       "      <td>0</td>\n",
       "      <td>2020-09-03</td>\n",
       "      <td>0</td>\n",
       "    </tr>\n",
       "  </tbody>\n",
       "</table>\n",
       "</div>"
      ],
      "text/plain": [
       "       date cas canton        age  genre_num     genre  nouveaux cas  \\\n",
       "304250      NaN     ZH        80+          2     femme             0   \n",
       "304251      NaN     ZH        80+          9  manquant             0   \n",
       "304252      NaN     ZH  Unbekannt          1     homme             0   \n",
       "304253      NaN     ZH  Unbekannt          2     femme             0   \n",
       "304254      NaN     ZH  Unbekannt          9  manquant             0   \n",
       "\n",
       "        date décès  nouveaux décès  \n",
       "304250  2020-09-03               0  \n",
       "304251  2020-09-03               0  \n",
       "304252  2020-09-03               0  \n",
       "304253  2020-09-03               0  \n",
       "304254  2020-09-03               0  "
      ]
     },
     "execution_count": 14,
     "metadata": {},
     "output_type": "execute_result"
    }
   ],
   "source": [
    "df.tail()"
   ]
  },
  {
   "cell_type": "markdown",
   "metadata": {},
   "source": [
    "Combien de lignes avec 0 nouveau cas? Et avec 0 nouveau décès?\n"
   ]
  },
  {
   "cell_type": "code",
   "execution_count": 15,
   "metadata": {
    "scrolled": true
   },
   "outputs": [
    {
     "data": {
      "text/plain": [
       "287564"
      ]
     },
     "execution_count": 15,
     "metadata": {},
     "output_type": "execute_result"
    }
   ],
   "source": [
    "len(df[df[\"nouveaux cas\"] == 0])"
   ]
  },
  {
   "cell_type": "code",
   "execution_count": 16,
   "metadata": {},
   "outputs": [
    {
     "data": {
      "text/plain": [
       "303082"
      ]
     },
     "execution_count": 16,
     "metadata": {},
     "output_type": "execute_result"
    }
   ],
   "source": [
    "len(df[df[\"nouveaux décès\"] == 0])"
   ]
  },
  {
   "cell_type": "code",
   "execution_count": 17,
   "metadata": {},
   "outputs": [
    {
     "data": {
      "text/plain": [
       "304255"
      ]
     },
     "execution_count": 17,
     "metadata": {},
     "output_type": "execute_result"
    }
   ],
   "source": [
    "len(df)"
   ]
  },
  {
   "cell_type": "code",
   "execution_count": 18,
   "metadata": {},
   "outputs": [
    {
     "data": {
      "text/plain": [
       "505"
      ]
     },
     "execution_count": 18,
     "metadata": {},
     "output_type": "execute_result"
    }
   ],
   "source": [
    "pas_date_cas = df[\"date cas\"].isnull()\n",
    "pas_date_deces = df[\"date décès\"].isnull()\n",
    "len(df[pas_date_cas & pas_date_deces])"
   ]
  },
  {
   "cell_type": "markdown",
   "metadata": {},
   "source": [
    "On comprend que notre fichier contient en fait deux tableaux, mis à la suite:\n",
    "\n",
    "- cas confirmés par classe d’âge, genre et canton\n",
    "- décès par classe d’âge, genre et canton\n",
    "\n",
    "Dans cet exercice, on s’intéressera uniquement aux cas. L’instruction `.copy()` fait comprendre à Pandas que je ne veux pas enregistrer un sous-ensemble (une «slice») d’un tableau, mais créer un nouveau tableau.\n"
   ]
  },
  {
   "cell_type": "code",
   "execution_count": 19,
   "metadata": {},
   "outputs": [],
   "source": [
    "df = df[df[\"nouveaux cas\"] > 0].copy()"
   ]
  },
  {
   "cell_type": "markdown",
   "metadata": {},
   "source": [
    "On n’a plus besoin des colonnes relatives aux décès.\n"
   ]
  },
  {
   "cell_type": "code",
   "execution_count": 20,
   "metadata": {},
   "outputs": [],
   "source": [
    "del df[\"date décès\"]\n",
    "del df[\"nouveaux décès\"]"
   ]
  },
  {
   "cell_type": "markdown",
   "metadata": {},
   "source": [
    "## Filtrer les données\n",
    "\n",
    "Pour commencer, on va s’intéresser aux cantons romands en créant un sous-ensemble avec la méthode `isin()`. Elle est très pratique pour proposer une liste de valeurs à vérifier.\n",
    "\n",
    "On travaillera dans la suite du notebook avec la variable **dfr** (df des cantons romands).\n"
   ]
  },
  {
   "cell_type": "code",
   "execution_count": 24,
   "metadata": {},
   "outputs": [],
   "source": [
    "cantons_romands = [\"VD\", \"GE\", \"JU\", \"VS\", \"NE\", \"FR\"]\n",
    "dfr = df[df[\"canton\"].isin(cantons_romands)]"
   ]
  },
  {
   "cell_type": "code",
   "execution_count": 25,
   "metadata": {},
   "outputs": [
    {
     "data": {
      "text/html": [
       "<div>\n",
       "<style scoped>\n",
       "    .dataframe tbody tr th:only-of-type {\n",
       "        vertical-align: middle;\n",
       "    }\n",
       "\n",
       "    .dataframe tbody tr th {\n",
       "        vertical-align: top;\n",
       "    }\n",
       "\n",
       "    .dataframe thead th {\n",
       "        text-align: right;\n",
       "    }\n",
       "</style>\n",
       "<table border=\"1\" class=\"dataframe\">\n",
       "  <thead>\n",
       "    <tr style=\"text-align: right;\">\n",
       "      <th></th>\n",
       "      <th>date cas</th>\n",
       "      <th>canton</th>\n",
       "      <th>age</th>\n",
       "      <th>genre_num</th>\n",
       "      <th>genre</th>\n",
       "      <th>nouveaux cas</th>\n",
       "    </tr>\n",
       "  </thead>\n",
       "  <tbody>\n",
       "    <tr>\n",
       "      <th>4</th>\n",
       "      <td>2020-02-26</td>\n",
       "      <td>GE</td>\n",
       "      <td>20 - 29</td>\n",
       "      <td>1</td>\n",
       "      <td>homme</td>\n",
       "      <td>1</td>\n",
       "    </tr>\n",
       "    <tr>\n",
       "      <th>8</th>\n",
       "      <td>2020-02-26</td>\n",
       "      <td>JU</td>\n",
       "      <td>50 - 59</td>\n",
       "      <td>1</td>\n",
       "      <td>homme</td>\n",
       "      <td>1</td>\n",
       "    </tr>\n",
       "    <tr>\n",
       "      <th>9</th>\n",
       "      <td>2020-02-26</td>\n",
       "      <td>VD</td>\n",
       "      <td>40 - 49</td>\n",
       "      <td>1</td>\n",
       "      <td>homme</td>\n",
       "      <td>1</td>\n",
       "    </tr>\n",
       "    <tr>\n",
       "      <th>12</th>\n",
       "      <td>2020-02-27</td>\n",
       "      <td>GE</td>\n",
       "      <td>20 - 29</td>\n",
       "      <td>2</td>\n",
       "      <td>femme</td>\n",
       "      <td>1</td>\n",
       "    </tr>\n",
       "    <tr>\n",
       "      <th>13</th>\n",
       "      <td>2020-02-27</td>\n",
       "      <td>GE</td>\n",
       "      <td>30 - 39</td>\n",
       "      <td>1</td>\n",
       "      <td>homme</td>\n",
       "      <td>1</td>\n",
       "    </tr>\n",
       "  </tbody>\n",
       "</table>\n",
       "</div>"
      ],
      "text/plain": [
       "      date cas canton      age  genre_num  genre  nouveaux cas\n",
       "4   2020-02-26     GE  20 - 29          1  homme             1\n",
       "8   2020-02-26     JU  50 - 59          1  homme             1\n",
       "9   2020-02-26     VD  40 - 49          1  homme             1\n",
       "12  2020-02-27     GE  20 - 29          2  femme             1\n",
       "13  2020-02-27     GE  30 - 39          1  homme             1"
      ]
     },
     "execution_count": 25,
     "metadata": {},
     "output_type": "execute_result"
    }
   ],
   "source": [
    "dfr.head()"
   ]
  },
  {
   "cell_type": "markdown",
   "metadata": {},
   "source": [
    "## Regrouper les données\n",
    "\n",
    "Et si on s’intéressait uniquement aux cantons, et pas aux genres et aux âges?\n",
    "\n",
    "Pandas permet de **regrouper** des données avec la méthode `groupby()`.\n",
    "\n",
    "Voici par exemple le total pour les cantons romands:\n"
   ]
  },
  {
   "cell_type": "code",
   "execution_count": 20,
   "metadata": {},
   "outputs": [
    {
     "data": {
      "text/plain": [
       "canton\n",
       "FR    1771\n",
       "GE    7178\n",
       "JU     280\n",
       "NE     847\n",
       "VD    7520\n",
       "VS    2334\n",
       "Name: nouveaux cas, dtype: int64"
      ]
     },
     "execution_count": 20,
     "metadata": {},
     "output_type": "execute_result"
    }
   ],
   "source": [
    "dfr.groupby(\"canton\")[\"nouveaux cas\"].sum()"
   ]
  },
  {
   "cell_type": "markdown",
   "metadata": {},
   "source": [
    "Mais on peut aussi regrouper par canton **et âge**:\n"
   ]
  },
  {
   "cell_type": "code",
   "execution_count": 21,
   "metadata": {},
   "outputs": [
    {
     "data": {
      "text/plain": [
       "canton  age      \n",
       "FR      0 - 9           5\n",
       "        10 - 19       107\n",
       "        20 - 29       389\n",
       "        30 - 39       210\n",
       "        40 - 49       251\n",
       "        50 - 59       242\n",
       "        60 - 69       149\n",
       "        70 - 79       153\n",
       "        80+           264\n",
       "        Unbekannt       1\n",
       "GE      0 - 9          87\n",
       "        10 - 19       318\n",
       "        20 - 29      1250\n",
       "        30 - 39      1269\n",
       "        40 - 49      1299\n",
       "        50 - 59      1278\n",
       "        60 - 69       603\n",
       "        70 - 79       399\n",
       "        80+           671\n",
       "        Unbekannt       4\n",
       "JU      0 - 9           2\n",
       "        10 - 19        12\n",
       "        20 - 29        39\n",
       "        30 - 39        34\n",
       "        40 - 49        37\n",
       "        50 - 59        63\n",
       "        60 - 69        42\n",
       "        70 - 79        22\n",
       "        80+            28\n",
       "        Unbekannt       1\n",
       "NE      0 - 9           6\n",
       "        10 - 19        33\n",
       "        20 - 29       114\n",
       "        30 - 39       103\n",
       "        40 - 49       141\n",
       "        50 - 59       140\n",
       "        60 - 69        74\n",
       "        70 - 79        77\n",
       "        80+           158\n",
       "        Unbekannt       1\n",
       "VD      0 - 9          35\n",
       "        10 - 19       303\n",
       "        20 - 29      1347\n",
       "        30 - 39      1164\n",
       "        40 - 49      1075\n",
       "        50 - 59      1271\n",
       "        60 - 69       835\n",
       "        70 - 79       616\n",
       "        80+           866\n",
       "        Unbekannt       8\n",
       "VS      0 - 9          12\n",
       "        10 - 19        84\n",
       "        20 - 29       373\n",
       "        30 - 39       295\n",
       "        40 - 49       300\n",
       "        50 - 59       477\n",
       "        60 - 69       281\n",
       "        70 - 79       223\n",
       "        80+           286\n",
       "        Unbekannt       3\n",
       "Name: nouveaux cas, dtype: int64"
      ]
     },
     "execution_count": 21,
     "metadata": {},
     "output_type": "execute_result"
    }
   ],
   "source": [
    "dfr.groupby([\"canton\", \"age\"])[\"nouveaux cas\"].sum()"
   ]
  },
  {
   "cell_type": "markdown",
   "metadata": {},
   "source": [
    "# Réunir deux jeux de données\n",
    "\n",
    "On peut ajouter les noms des cantons à l’aide d’un autre tableau de données, qu’on va charger dans la variable **df_cantons**:\n"
   ]
  },
  {
   "cell_type": "code",
   "execution_count": 26,
   "metadata": {
    "scrolled": true
   },
   "outputs": [
    {
     "data": {
      "text/html": [
       "<div>\n",
       "<style scoped>\n",
       "    .dataframe tbody tr th:only-of-type {\n",
       "        vertical-align: middle;\n",
       "    }\n",
       "\n",
       "    .dataframe tbody tr th {\n",
       "        vertical-align: top;\n",
       "    }\n",
       "\n",
       "    .dataframe thead th {\n",
       "        text-align: right;\n",
       "    }\n",
       "</style>\n",
       "<table border=\"1\" class=\"dataframe\">\n",
       "  <thead>\n",
       "    <tr style=\"text-align: right;\">\n",
       "      <th></th>\n",
       "      <th>Unnamed: 0</th>\n",
       "      <th>name_fr</th>\n",
       "      <th>name_de</th>\n",
       "      <th>abbrev</th>\n",
       "      <th>lat</th>\n",
       "      <th>lng</th>\n",
       "    </tr>\n",
       "  </thead>\n",
       "  <tbody>\n",
       "    <tr>\n",
       "      <th>0</th>\n",
       "      <td>0</td>\n",
       "      <td>Argovie</td>\n",
       "      <td>Aargau</td>\n",
       "      <td>AG</td>\n",
       "      <td>47,3876664</td>\n",
       "      <td>8,1554295</td>\n",
       "    </tr>\n",
       "    <tr>\n",
       "      <th>1</th>\n",
       "      <td>1</td>\n",
       "      <td>Appenzell Rhodes-Extérieures</td>\n",
       "      <td>Appenzell Ausserrhoden</td>\n",
       "      <td>AR</td>\n",
       "      <td>47,366481</td>\n",
       "      <td>9,3000916</td>\n",
       "    </tr>\n",
       "    <tr>\n",
       "      <th>2</th>\n",
       "      <td>2</td>\n",
       "      <td>Appenzell Rhodes-Intérieures</td>\n",
       "      <td>Appenzell Innerrhoden</td>\n",
       "      <td>AI</td>\n",
       "      <td>47,3161925</td>\n",
       "      <td>9,6316573</td>\n",
       "    </tr>\n",
       "    <tr>\n",
       "      <th>3</th>\n",
       "      <td>3</td>\n",
       "      <td>Bâle-Campagne</td>\n",
       "      <td>Basel-Landschaft</td>\n",
       "      <td>BL</td>\n",
       "      <td>47,4418122</td>\n",
       "      <td>7,7644002</td>\n",
       "    </tr>\n",
       "    <tr>\n",
       "      <th>4</th>\n",
       "      <td>4</td>\n",
       "      <td>Bâle-Ville</td>\n",
       "      <td>Basel-Stadt</td>\n",
       "      <td>BS</td>\n",
       "      <td>47,5619253</td>\n",
       "      <td>7,592768</td>\n",
       "    </tr>\n",
       "  </tbody>\n",
       "</table>\n",
       "</div>"
      ],
      "text/plain": [
       "   Unnamed: 0                       name_fr                 name_de abbrev  \\\n",
       "0           0                       Argovie                  Aargau     AG   \n",
       "1           1  Appenzell Rhodes-Extérieures  Appenzell Ausserrhoden     AR   \n",
       "2           2  Appenzell Rhodes-Intérieures   Appenzell Innerrhoden     AI   \n",
       "3           3                 Bâle-Campagne        Basel-Landschaft     BL   \n",
       "4           4                    Bâle-Ville             Basel-Stadt     BS   \n",
       "\n",
       "          lat        lng  \n",
       "0  47,3876664  8,1554295  \n",
       "1   47,366481  9,3000916  \n",
       "2  47,3161925  9,6316573  \n",
       "3  47,4418122  7,7644002  \n",
       "4  47,5619253   7,592768  "
      ]
     },
     "execution_count": 26,
     "metadata": {},
     "output_type": "execute_result"
    }
   ],
   "source": [
    "df_cantons = pd.read_csv(\"data/cantons_geo.csv\")\n",
    "df_cantons.head()"
   ]
  },
  {
   "cell_type": "markdown",
   "metadata": {},
   "source": [
    "Accessoirement, ce tableau vous donne les coordonnées géographiques des centres des cantons. Mais on ne va utiliser que leur abréviation (AG) et leur nom en français.\n"
   ]
  },
  {
   "cell_type": "code",
   "execution_count": 27,
   "metadata": {},
   "outputs": [],
   "source": [
    "df_cantons = df_cantons[[\"name_fr\", \"abbrev\"]]"
   ]
  },
  {
   "cell_type": "code",
   "execution_count": 36,
   "metadata": {},
   "outputs": [
    {
     "data": {
      "text/html": [
       "<div>\n",
       "<style scoped>\n",
       "    .dataframe tbody tr th:only-of-type {\n",
       "        vertical-align: middle;\n",
       "    }\n",
       "\n",
       "    .dataframe tbody tr th {\n",
       "        vertical-align: top;\n",
       "    }\n",
       "\n",
       "    .dataframe thead th {\n",
       "        text-align: right;\n",
       "    }\n",
       "</style>\n",
       "<table border=\"1\" class=\"dataframe\">\n",
       "  <thead>\n",
       "    <tr style=\"text-align: right;\">\n",
       "      <th></th>\n",
       "      <th>name_fr</th>\n",
       "      <th>canton</th>\n",
       "    </tr>\n",
       "  </thead>\n",
       "  <tbody>\n",
       "    <tr>\n",
       "      <th>0</th>\n",
       "      <td>Argovie</td>\n",
       "      <td>AG</td>\n",
       "    </tr>\n",
       "    <tr>\n",
       "      <th>1</th>\n",
       "      <td>Appenzell Rhodes-Extérieures</td>\n",
       "      <td>AR</td>\n",
       "    </tr>\n",
       "    <tr>\n",
       "      <th>2</th>\n",
       "      <td>Appenzell Rhodes-Intérieures</td>\n",
       "      <td>AI</td>\n",
       "    </tr>\n",
       "    <tr>\n",
       "      <th>3</th>\n",
       "      <td>Bâle-Campagne</td>\n",
       "      <td>BL</td>\n",
       "    </tr>\n",
       "    <tr>\n",
       "      <th>4</th>\n",
       "      <td>Bâle-Ville</td>\n",
       "      <td>BS</td>\n",
       "    </tr>\n",
       "  </tbody>\n",
       "</table>\n",
       "</div>"
      ],
      "text/plain": [
       "                        name_fr canton\n",
       "0                       Argovie     AG\n",
       "1  Appenzell Rhodes-Extérieures     AR\n",
       "2  Appenzell Rhodes-Intérieures     AI\n",
       "3                 Bâle-Campagne     BL\n",
       "4                    Bâle-Ville     BS"
      ]
     },
     "execution_count": 36,
     "metadata": {},
     "output_type": "execute_result"
    }
   ],
   "source": [
    "df_cantons.head()"
   ]
  },
  {
   "cell_type": "markdown",
   "metadata": {},
   "source": [
    "## Renommer la colonne commune\n",
    "\n",
    "Il va falloir donner à la colonne «abbrev» le nom utilisé dans notre df principal, soit «canton». A vous!\n"
   ]
  },
  {
   "cell_type": "code",
   "execution_count": 24,
   "metadata": {},
   "outputs": [],
   "source": [
    "df_cantons.rename(columns={\"fall_dt\": \"date cas\", \"ktn\": \"canton\"}, inplace=True)"
   ]
  },
  {
   "cell_type": "code",
   "execution_count": 35,
   "metadata": {},
   "outputs": [],
   "source": [
    "df_cantons.rename(columns={\"abbrev\": \"canton\"}, inplace=True)"
   ]
  },
  {
   "cell_type": "markdown",
   "metadata": {},
   "source": [
    "Et maintenant, on est prêt à **réunir ces tableaux**! Il faut indiquer à Pandas quelle colonne il doit utiliser pour aligner chaque ligne, et comment gérer les lignes pour lesquelles il n’existe aucune correspondance.\n"
   ]
  },
  {
   "cell_type": "code",
   "execution_count": 38,
   "metadata": {},
   "outputs": [
    {
     "data": {
      "text/html": [
       "<div>\n",
       "<style scoped>\n",
       "    .dataframe tbody tr th:only-of-type {\n",
       "        vertical-align: middle;\n",
       "    }\n",
       "\n",
       "    .dataframe tbody tr th {\n",
       "        vertical-align: top;\n",
       "    }\n",
       "\n",
       "    .dataframe thead th {\n",
       "        text-align: right;\n",
       "    }\n",
       "</style>\n",
       "<table border=\"1\" class=\"dataframe\">\n",
       "  <thead>\n",
       "    <tr style=\"text-align: right;\">\n",
       "      <th></th>\n",
       "      <th>date cas</th>\n",
       "      <th>canton</th>\n",
       "      <th>age</th>\n",
       "      <th>genre_num</th>\n",
       "      <th>genre</th>\n",
       "      <th>nouveaux cas</th>\n",
       "      <th>name_fr</th>\n",
       "    </tr>\n",
       "  </thead>\n",
       "  <tbody>\n",
       "    <tr>\n",
       "      <th>0</th>\n",
       "      <td>2020-02-26</td>\n",
       "      <td>GE</td>\n",
       "      <td>20 - 29</td>\n",
       "      <td>1</td>\n",
       "      <td>homme</td>\n",
       "      <td>1</td>\n",
       "      <td>Genève</td>\n",
       "    </tr>\n",
       "    <tr>\n",
       "      <th>1</th>\n",
       "      <td>2020-02-26</td>\n",
       "      <td>JU</td>\n",
       "      <td>50 - 59</td>\n",
       "      <td>1</td>\n",
       "      <td>homme</td>\n",
       "      <td>1</td>\n",
       "      <td>Jura</td>\n",
       "    </tr>\n",
       "    <tr>\n",
       "      <th>2</th>\n",
       "      <td>2020-02-26</td>\n",
       "      <td>VD</td>\n",
       "      <td>40 - 49</td>\n",
       "      <td>1</td>\n",
       "      <td>homme</td>\n",
       "      <td>1</td>\n",
       "      <td>Vaud</td>\n",
       "    </tr>\n",
       "    <tr>\n",
       "      <th>3</th>\n",
       "      <td>2020-02-27</td>\n",
       "      <td>GE</td>\n",
       "      <td>20 - 29</td>\n",
       "      <td>2</td>\n",
       "      <td>femme</td>\n",
       "      <td>1</td>\n",
       "      <td>Genève</td>\n",
       "    </tr>\n",
       "    <tr>\n",
       "      <th>4</th>\n",
       "      <td>2020-02-27</td>\n",
       "      <td>GE</td>\n",
       "      <td>30 - 39</td>\n",
       "      <td>1</td>\n",
       "      <td>homme</td>\n",
       "      <td>1</td>\n",
       "      <td>Genève</td>\n",
       "    </tr>\n",
       "  </tbody>\n",
       "</table>\n",
       "</div>"
      ],
      "text/plain": [
       "     date cas canton      age  genre_num  genre  nouveaux cas name_fr\n",
       "0  2020-02-26     GE  20 - 29          1  homme             1  Genève\n",
       "1  2020-02-26     JU  50 - 59          1  homme             1    Jura\n",
       "2  2020-02-26     VD  40 - 49          1  homme             1    Vaud\n",
       "3  2020-02-27     GE  20 - 29          2  femme             1  Genève\n",
       "4  2020-02-27     GE  30 - 39          1  homme             1  Genève"
      ]
     },
     "execution_count": 38,
     "metadata": {},
     "output_type": "execute_result"
    }
   ],
   "source": [
    "dfm = dfr.merge(df_cantons, on=\"canton\", how=\"left\")\n",
    "dfm.head()"
   ]
  },
  {
   "cell_type": "markdown",
   "metadata": {},
   "source": [
    "Ici, on a gardé toutes les lignes de **dfr**, mais seulement les lignes de **df_cantons** qui y correspondent. C’est ce qu’on appelle un «left join»: le résultat contient tout le tableau de gauche mais seulement les éléments pertinents du tableau de droite.\n",
    "\n",
    "Par défaut, la méthode `df.merge()` utilise un «inner join»: elle ne conserve que les éléments qui ont un élément en commun dans la colonne indiquée après `on`.\n",
    "\n",
    "En l’occurrence, comme tous les cantons de notre **dfr** sont aussi dans **df_cantons**, le résultat du «left join» ne fait pas de différence avec un «inner join».\n",
    "\n",
    "Cette page [détaille les différents types de «joints»](https://www.datacourses.com/concatenate-merge-and-join-data-with-pandas-598/) qu’on peut utiliser.\n",
    "\n",
    "On va maintenant faire la même opération sur **df** (Suisse entière), et écraser **df** avec le résultat.\n"
   ]
  },
  {
   "cell_type": "code",
   "execution_count": 39,
   "metadata": {},
   "outputs": [
    {
     "data": {
      "text/html": [
       "<div>\n",
       "<style scoped>\n",
       "    .dataframe tbody tr th:only-of-type {\n",
       "        vertical-align: middle;\n",
       "    }\n",
       "\n",
       "    .dataframe tbody tr th {\n",
       "        vertical-align: top;\n",
       "    }\n",
       "\n",
       "    .dataframe thead th {\n",
       "        text-align: right;\n",
       "    }\n",
       "</style>\n",
       "<table border=\"1\" class=\"dataframe\">\n",
       "  <thead>\n",
       "    <tr style=\"text-align: right;\">\n",
       "      <th></th>\n",
       "      <th>date cas</th>\n",
       "      <th>canton</th>\n",
       "      <th>age</th>\n",
       "      <th>genre_num</th>\n",
       "      <th>genre</th>\n",
       "      <th>nouveaux cas</th>\n",
       "      <th>name_fr</th>\n",
       "    </tr>\n",
       "  </thead>\n",
       "  <tbody>\n",
       "    <tr>\n",
       "      <th>0</th>\n",
       "      <td>2020-02-24</td>\n",
       "      <td>TI</td>\n",
       "      <td>70 - 79</td>\n",
       "      <td>1</td>\n",
       "      <td>homme</td>\n",
       "      <td>1</td>\n",
       "      <td>Tessin</td>\n",
       "    </tr>\n",
       "    <tr>\n",
       "      <th>1</th>\n",
       "      <td>2020-02-25</td>\n",
       "      <td>AG</td>\n",
       "      <td>20 - 29</td>\n",
       "      <td>1</td>\n",
       "      <td>homme</td>\n",
       "      <td>1</td>\n",
       "      <td>Argovie</td>\n",
       "    </tr>\n",
       "    <tr>\n",
       "      <th>2</th>\n",
       "      <td>2020-02-26</td>\n",
       "      <td>BL</td>\n",
       "      <td>20 - 29</td>\n",
       "      <td>1</td>\n",
       "      <td>homme</td>\n",
       "      <td>1</td>\n",
       "      <td>Bâle-Campagne</td>\n",
       "    </tr>\n",
       "    <tr>\n",
       "      <th>3</th>\n",
       "      <td>2020-02-26</td>\n",
       "      <td>BS</td>\n",
       "      <td>20 - 29</td>\n",
       "      <td>2</td>\n",
       "      <td>femme</td>\n",
       "      <td>1</td>\n",
       "      <td>Bâle-Ville</td>\n",
       "    </tr>\n",
       "    <tr>\n",
       "      <th>4</th>\n",
       "      <td>2020-02-26</td>\n",
       "      <td>GE</td>\n",
       "      <td>20 - 29</td>\n",
       "      <td>1</td>\n",
       "      <td>homme</td>\n",
       "      <td>1</td>\n",
       "      <td>Genève</td>\n",
       "    </tr>\n",
       "  </tbody>\n",
       "</table>\n",
       "</div>"
      ],
      "text/plain": [
       "     date cas canton      age  genre_num  genre  nouveaux cas        name_fr\n",
       "0  2020-02-24     TI  70 - 79          1  homme             1         Tessin\n",
       "1  2020-02-25     AG  20 - 29          1  homme             1        Argovie\n",
       "2  2020-02-26     BL  20 - 29          1  homme             1  Bâle-Campagne\n",
       "3  2020-02-26     BS  20 - 29          2  femme             1     Bâle-Ville\n",
       "4  2020-02-26     GE  20 - 29          1  homme             1         Genève"
      ]
     },
     "execution_count": 39,
     "metadata": {},
     "output_type": "execute_result"
    }
   ],
   "source": [
    "df = df.merge(df_cantons, on=\"canton\")\n",
    "df.head()"
   ]
  },
  {
   "cell_type": "markdown",
   "metadata": {},
   "source": [
    "### Cette fois, on est bon!\n",
    "\n",
    "On a notre colonne name_fr. On peut transformer le tableau et l’exporter pour en faire par exemple un graphique [Datawrapper](https://www.datawrapper.de).\n"
   ]
  },
  {
   "cell_type": "code",
   "execution_count": 40,
   "metadata": {},
   "outputs": [
    {
     "data": {
      "text/html": [
       "<div>\n",
       "<style scoped>\n",
       "    .dataframe tbody tr th:only-of-type {\n",
       "        vertical-align: middle;\n",
       "    }\n",
       "\n",
       "    .dataframe tbody tr th {\n",
       "        vertical-align: top;\n",
       "    }\n",
       "\n",
       "    .dataframe thead th {\n",
       "        text-align: right;\n",
       "    }\n",
       "</style>\n",
       "<table border=\"1\" class=\"dataframe\">\n",
       "  <thead>\n",
       "    <tr style=\"text-align: right;\">\n",
       "      <th></th>\n",
       "      <th>date cas</th>\n",
       "      <th>canton</th>\n",
       "      <th>age</th>\n",
       "      <th>genre_num</th>\n",
       "      <th>genre</th>\n",
       "      <th>nouveaux cas</th>\n",
       "      <th>name_fr</th>\n",
       "    </tr>\n",
       "  </thead>\n",
       "  <tbody>\n",
       "    <tr>\n",
       "      <th>0</th>\n",
       "      <td>2020-02-24</td>\n",
       "      <td>TI</td>\n",
       "      <td>70 - 79</td>\n",
       "      <td>1</td>\n",
       "      <td>homme</td>\n",
       "      <td>1</td>\n",
       "      <td>Tessin</td>\n",
       "    </tr>\n",
       "    <tr>\n",
       "      <th>1</th>\n",
       "      <td>2020-02-25</td>\n",
       "      <td>AG</td>\n",
       "      <td>20 - 29</td>\n",
       "      <td>1</td>\n",
       "      <td>homme</td>\n",
       "      <td>1</td>\n",
       "      <td>Argovie</td>\n",
       "    </tr>\n",
       "    <tr>\n",
       "      <th>2</th>\n",
       "      <td>2020-02-26</td>\n",
       "      <td>BL</td>\n",
       "      <td>20 - 29</td>\n",
       "      <td>1</td>\n",
       "      <td>homme</td>\n",
       "      <td>1</td>\n",
       "      <td>Bâle-Campagne</td>\n",
       "    </tr>\n",
       "    <tr>\n",
       "      <th>3</th>\n",
       "      <td>2020-02-26</td>\n",
       "      <td>BS</td>\n",
       "      <td>20 - 29</td>\n",
       "      <td>2</td>\n",
       "      <td>femme</td>\n",
       "      <td>1</td>\n",
       "      <td>Bâle-Ville</td>\n",
       "    </tr>\n",
       "    <tr>\n",
       "      <th>4</th>\n",
       "      <td>2020-02-26</td>\n",
       "      <td>GE</td>\n",
       "      <td>20 - 29</td>\n",
       "      <td>1</td>\n",
       "      <td>homme</td>\n",
       "      <td>1</td>\n",
       "      <td>Genève</td>\n",
       "    </tr>\n",
       "    <tr>\n",
       "      <th>...</th>\n",
       "      <td>...</td>\n",
       "      <td>...</td>\n",
       "      <td>...</td>\n",
       "      <td>...</td>\n",
       "      <td>...</td>\n",
       "      <td>...</td>\n",
       "      <td>...</td>\n",
       "    </tr>\n",
       "    <tr>\n",
       "      <th>16587</th>\n",
       "      <td>2020-09-02</td>\n",
       "      <td>ZH</td>\n",
       "      <td>40 - 49</td>\n",
       "      <td>1</td>\n",
       "      <td>homme</td>\n",
       "      <td>3</td>\n",
       "      <td>Zurich</td>\n",
       "    </tr>\n",
       "    <tr>\n",
       "      <th>16588</th>\n",
       "      <td>2020-09-02</td>\n",
       "      <td>ZH</td>\n",
       "      <td>40 - 49</td>\n",
       "      <td>2</td>\n",
       "      <td>femme</td>\n",
       "      <td>2</td>\n",
       "      <td>Zurich</td>\n",
       "    </tr>\n",
       "    <tr>\n",
       "      <th>16589</th>\n",
       "      <td>2020-09-02</td>\n",
       "      <td>ZH</td>\n",
       "      <td>50 - 59</td>\n",
       "      <td>1</td>\n",
       "      <td>homme</td>\n",
       "      <td>4</td>\n",
       "      <td>Zurich</td>\n",
       "    </tr>\n",
       "    <tr>\n",
       "      <th>16590</th>\n",
       "      <td>2020-09-02</td>\n",
       "      <td>ZH</td>\n",
       "      <td>50 - 59</td>\n",
       "      <td>2</td>\n",
       "      <td>femme</td>\n",
       "      <td>1</td>\n",
       "      <td>Zurich</td>\n",
       "    </tr>\n",
       "    <tr>\n",
       "      <th>16591</th>\n",
       "      <td>2020-09-02</td>\n",
       "      <td>ZH</td>\n",
       "      <td>70 - 79</td>\n",
       "      <td>1</td>\n",
       "      <td>homme</td>\n",
       "      <td>1</td>\n",
       "      <td>Zurich</td>\n",
       "    </tr>\n",
       "  </tbody>\n",
       "</table>\n",
       "<p>16592 rows × 7 columns</p>\n",
       "</div>"
      ],
      "text/plain": [
       "         date cas canton      age  genre_num  genre  nouveaux cas  \\\n",
       "0      2020-02-24     TI  70 - 79          1  homme             1   \n",
       "1      2020-02-25     AG  20 - 29          1  homme             1   \n",
       "2      2020-02-26     BL  20 - 29          1  homme             1   \n",
       "3      2020-02-26     BS  20 - 29          2  femme             1   \n",
       "4      2020-02-26     GE  20 - 29          1  homme             1   \n",
       "...           ...    ...      ...        ...    ...           ...   \n",
       "16587  2020-09-02     ZH  40 - 49          1  homme             3   \n",
       "16588  2020-09-02     ZH  40 - 49          2  femme             2   \n",
       "16589  2020-09-02     ZH  50 - 59          1  homme             4   \n",
       "16590  2020-09-02     ZH  50 - 59          2  femme             1   \n",
       "16591  2020-09-02     ZH  70 - 79          1  homme             1   \n",
       "\n",
       "             name_fr  \n",
       "0             Tessin  \n",
       "1            Argovie  \n",
       "2      Bâle-Campagne  \n",
       "3         Bâle-Ville  \n",
       "4             Genève  \n",
       "...              ...  \n",
       "16587         Zurich  \n",
       "16588         Zurich  \n",
       "16589         Zurich  \n",
       "16590         Zurich  \n",
       "16591         Zurich  \n",
       "\n",
       "[16592 rows x 7 columns]"
      ]
     },
     "execution_count": 40,
     "metadata": {},
     "output_type": "execute_result"
    }
   ],
   "source": [
    "df"
   ]
  },
  {
   "cell_type": "code",
   "execution_count": null,
   "metadata": {},
   "outputs": [],
   "source": []
  },
  {
   "cell_type": "code",
   "execution_count": null,
   "metadata": {},
   "outputs": [],
   "source": []
  },
  {
   "cell_type": "markdown",
   "metadata": {},
   "source": [
    "## Exercices bonus\n",
    "\n",
    "Arrivez-vous à joindre notre df actuel avec la population des cantons romands, contenue dans **data/cantons_population.csv** ?\n"
   ]
  },
  {
   "cell_type": "code",
   "execution_count": 41,
   "metadata": {},
   "outputs": [],
   "source": [
    "dfpop = pd.read_csv(\"data/cantons_population.csv\")"
   ]
  },
  {
   "cell_type": "code",
   "execution_count": 43,
   "metadata": {},
   "outputs": [
    {
     "data": {
      "text/html": [
       "<div>\n",
       "<style scoped>\n",
       "    .dataframe tbody tr th:only-of-type {\n",
       "        vertical-align: middle;\n",
       "    }\n",
       "\n",
       "    .dataframe tbody tr th {\n",
       "        vertical-align: top;\n",
       "    }\n",
       "\n",
       "    .dataframe thead th {\n",
       "        text-align: right;\n",
       "    }\n",
       "</style>\n",
       "<table border=\"1\" class=\"dataframe\">\n",
       "  <thead>\n",
       "    <tr style=\"text-align: right;\">\n",
       "      <th></th>\n",
       "      <th>date cas</th>\n",
       "      <th>canton</th>\n",
       "      <th>age</th>\n",
       "      <th>genre_num</th>\n",
       "      <th>genre</th>\n",
       "      <th>nouveaux cas</th>\n",
       "      <th>name_fr</th>\n",
       "    </tr>\n",
       "  </thead>\n",
       "  <tbody>\n",
       "    <tr>\n",
       "      <th>0</th>\n",
       "      <td>2020-02-24</td>\n",
       "      <td>TI</td>\n",
       "      <td>70 - 79</td>\n",
       "      <td>1</td>\n",
       "      <td>homme</td>\n",
       "      <td>1</td>\n",
       "      <td>Tessin</td>\n",
       "    </tr>\n",
       "    <tr>\n",
       "      <th>1</th>\n",
       "      <td>2020-02-25</td>\n",
       "      <td>AG</td>\n",
       "      <td>20 - 29</td>\n",
       "      <td>1</td>\n",
       "      <td>homme</td>\n",
       "      <td>1</td>\n",
       "      <td>Argovie</td>\n",
       "    </tr>\n",
       "    <tr>\n",
       "      <th>2</th>\n",
       "      <td>2020-02-26</td>\n",
       "      <td>BL</td>\n",
       "      <td>20 - 29</td>\n",
       "      <td>1</td>\n",
       "      <td>homme</td>\n",
       "      <td>1</td>\n",
       "      <td>Bâle-Campagne</td>\n",
       "    </tr>\n",
       "    <tr>\n",
       "      <th>3</th>\n",
       "      <td>2020-02-26</td>\n",
       "      <td>BS</td>\n",
       "      <td>20 - 29</td>\n",
       "      <td>2</td>\n",
       "      <td>femme</td>\n",
       "      <td>1</td>\n",
       "      <td>Bâle-Ville</td>\n",
       "    </tr>\n",
       "    <tr>\n",
       "      <th>4</th>\n",
       "      <td>2020-02-26</td>\n",
       "      <td>GE</td>\n",
       "      <td>20 - 29</td>\n",
       "      <td>1</td>\n",
       "      <td>homme</td>\n",
       "      <td>1</td>\n",
       "      <td>Genève</td>\n",
       "    </tr>\n",
       "  </tbody>\n",
       "</table>\n",
       "</div>"
      ],
      "text/plain": [
       "     date cas canton      age  genre_num  genre  nouveaux cas        name_fr\n",
       "0  2020-02-24     TI  70 - 79          1  homme             1         Tessin\n",
       "1  2020-02-25     AG  20 - 29          1  homme             1        Argovie\n",
       "2  2020-02-26     BL  20 - 29          1  homme             1  Bâle-Campagne\n",
       "3  2020-02-26     BS  20 - 29          2  femme             1     Bâle-Ville\n",
       "4  2020-02-26     GE  20 - 29          1  homme             1         Genève"
      ]
     },
     "execution_count": 43,
     "metadata": {},
     "output_type": "execute_result"
    }
   ],
   "source": [
    "df.head()"
   ]
  },
  {
   "cell_type": "code",
   "execution_count": 48,
   "metadata": {},
   "outputs": [],
   "source": [
    "dfpop.rename(columns={\"name\": \"name_fr\"}, inplace=True)"
   ]
  },
  {
   "cell_type": "code",
   "execution_count": 52,
   "metadata": {},
   "outputs": [],
   "source": [
    "df = df.merge(dfpop, on=\"name_fr\")"
   ]
  },
  {
   "cell_type": "code",
   "execution_count": 53,
   "metadata": {},
   "outputs": [
    {
     "data": {
      "text/html": [
       "<div>\n",
       "<style scoped>\n",
       "    .dataframe tbody tr th:only-of-type {\n",
       "        vertical-align: middle;\n",
       "    }\n",
       "\n",
       "    .dataframe tbody tr th {\n",
       "        vertical-align: top;\n",
       "    }\n",
       "\n",
       "    .dataframe thead th {\n",
       "        text-align: right;\n",
       "    }\n",
       "</style>\n",
       "<table border=\"1\" class=\"dataframe\">\n",
       "  <thead>\n",
       "    <tr style=\"text-align: right;\">\n",
       "      <th></th>\n",
       "      <th>date cas</th>\n",
       "      <th>canton</th>\n",
       "      <th>age</th>\n",
       "      <th>genre_num</th>\n",
       "      <th>genre</th>\n",
       "      <th>nouveaux cas</th>\n",
       "      <th>name_fr</th>\n",
       "      <th>population</th>\n",
       "    </tr>\n",
       "  </thead>\n",
       "  <tbody>\n",
       "    <tr>\n",
       "      <th>0</th>\n",
       "      <td>2020-02-24</td>\n",
       "      <td>TI</td>\n",
       "      <td>70 - 79</td>\n",
       "      <td>1</td>\n",
       "      <td>homme</td>\n",
       "      <td>1</td>\n",
       "      <td>Tessin</td>\n",
       "      <td>353343</td>\n",
       "    </tr>\n",
       "    <tr>\n",
       "      <th>1</th>\n",
       "      <td>2020-02-25</td>\n",
       "      <td>AG</td>\n",
       "      <td>20 - 29</td>\n",
       "      <td>1</td>\n",
       "      <td>homme</td>\n",
       "      <td>1</td>\n",
       "      <td>Argovie</td>\n",
       "      <td>678207</td>\n",
       "    </tr>\n",
       "    <tr>\n",
       "      <th>2</th>\n",
       "      <td>2020-02-26</td>\n",
       "      <td>BL</td>\n",
       "      <td>20 - 29</td>\n",
       "      <td>1</td>\n",
       "      <td>homme</td>\n",
       "      <td>1</td>\n",
       "      <td>Bâle-Campagne</td>\n",
       "      <td>288132</td>\n",
       "    </tr>\n",
       "    <tr>\n",
       "      <th>3</th>\n",
       "      <td>2020-02-26</td>\n",
       "      <td>BS</td>\n",
       "      <td>20 - 29</td>\n",
       "      <td>2</td>\n",
       "      <td>femme</td>\n",
       "      <td>1</td>\n",
       "      <td>Bâle-Ville</td>\n",
       "      <td>194766</td>\n",
       "    </tr>\n",
       "    <tr>\n",
       "      <th>4</th>\n",
       "      <td>2020-02-26</td>\n",
       "      <td>GE</td>\n",
       "      <td>20 - 29</td>\n",
       "      <td>1</td>\n",
       "      <td>homme</td>\n",
       "      <td>1</td>\n",
       "      <td>Genève</td>\n",
       "      <td>499480</td>\n",
       "    </tr>\n",
       "  </tbody>\n",
       "</table>\n",
       "</div>"
      ],
      "text/plain": [
       "     date cas canton      age  genre_num  genre  nouveaux cas        name_fr  \\\n",
       "0  2020-02-24     TI  70 - 79          1  homme             1         Tessin   \n",
       "1  2020-02-25     AG  20 - 29          1  homme             1        Argovie   \n",
       "2  2020-02-26     BL  20 - 29          1  homme             1  Bâle-Campagne   \n",
       "3  2020-02-26     BS  20 - 29          2  femme             1     Bâle-Ville   \n",
       "4  2020-02-26     GE  20 - 29          1  homme             1         Genève   \n",
       "\n",
       "   population  \n",
       "0      353343  \n",
       "1      678207  \n",
       "2      288132  \n",
       "3      194766  \n",
       "4      499480  "
      ]
     },
     "execution_count": 53,
     "metadata": {},
     "output_type": "execute_result"
    }
   ],
   "source": [
    "df.head()"
   ]
  },
  {
   "cell_type": "markdown",
   "metadata": {},
   "source": [
    "## Exercice bonus 2\n",
    "\n",
    "On a vu passer cette drôle de classe d’âge: «Unbekannt»… Comment mettre ça en français?\n"
   ]
  },
  {
   "cell_type": "code",
   "execution_count": null,
   "metadata": {},
   "outputs": [],
   "source": []
  },
  {
   "cell_type": "code",
   "execution_count": null,
   "metadata": {},
   "outputs": [],
   "source": []
  }
 ],
 "metadata": {
  "kernelspec": {
   "display_name": "cpe2023",
   "language": "python",
   "name": "python3"
  },
  "language_info": {
   "codemirror_mode": {
    "name": "ipython",
    "version": 3
   },
   "file_extension": ".py",
   "mimetype": "text/x-python",
   "name": "python",
   "nbconvert_exporter": "python",
   "pygments_lexer": "ipython3",
   "version": "3.12.0"
  }
 },
 "nbformat": 4,
 "nbformat_minor": 4
}

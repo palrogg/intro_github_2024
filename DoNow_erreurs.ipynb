{
 "cells": [
  {
   "cell_type": "markdown",
   "metadata": {},
   "source": [
    "## Do Now\n",
    "\n",
    "Chacune des cellules suivantes contiennent une ou plusieurs erreurs, des variantes de l’exercice précédent. Trouvez comment les réparer."
   ]
  },
  {
   "cell_type": "code",
   "execution_count": 1,
   "metadata": {},
   "outputs": [],
   "source": [
    "salaire_mensuel = 5000\n",
    "salaire_annuel = salaire_mensuel * 13"
   ]
  },
  {
   "cell_type": "code",
   "execution_count": 3,
   "metadata": {},
   "outputs": [
    {
     "name": "stdout",
     "output_type": "stream",
     "text": [
      "Page 121: Par exemple, il y eut là un fameux coup de fourchette:\n",
      "c'est-à-dire que personne de la société ne se souvenait de s'être\n",
      "jamais collé une pareille indigestion sur la conscience.\n"
     ]
    }
   ],
   "source": [
    "no_page = str(121)\n",
    "phrase = \"\"\"Par exemple, il y eut là un fameux coup de fourchette:\n",
    "c'est-à-dire que personne de la société ne se souvenait de s'être\n",
    "jamais collé une pareille indigestion sur la conscience.\"\"\"\n",
    "print(\"Page \" + no_page + \": \" + phrase)"
   ]
  },
  {
   "cell_type": "code",
   "execution_count": 6,
   "metadata": {},
   "outputs": [],
   "source": [
    "nouvel_inscrit = 'Ron'\n",
    "inscrits = ['Roger', 'Robert', 'Romuald', 'Roland', 'Robin', 'Régis']\n",
    "inscrits.append(nouvel_inscrit)"
   ]
  },
  {
   "cell_type": "code",
   "execution_count": 15,
   "metadata": {},
   "outputs": [
    {
     "name": "stdout",
     "output_type": "stream",
     "text": [
      "Importations d'énergie\n",
      "En 2019, la Suisse a importé de l'électricité durant 3 mois de l'année\n"
     ]
    }
   ],
   "source": [
    "import builtins\n",
    "print = builtins.print\n",
    "print(\"Importations d'énergie\")\n",
    "total_months = 3\n",
    "print(\"En 2019, la Suisse a importé de l'électricité durant \" + str(total_months) + \" mois de l'année\")"
   ]
  },
  {
   "cell_type": "code",
   "execution_count": 16,
   "metadata": {},
   "outputs": [
    {
     "name": "stdout",
     "output_type": "stream",
     "text": [
      "Le résultat est 402\n"
     ]
    }
   ],
   "source": [
    "nombre1 = 150\n",
    "nombre2 = 250\n",
    "nombre3 = 0\n",
    "nombre4 = 2\n",
    "addition = nombre1 + nombre2 + nombre3 + nombre4\n",
    "print('Le résultat est', addition)"
   ]
  },
  {
   "cell_type": "code",
   "execution_count": null,
   "metadata": {},
   "outputs": [],
   "source": []
  }
 ],
 "metadata": {
  "kernelspec": {
   "display_name": "cpe2023",
   "language": "python",
   "name": "python3"
  },
  "language_info": {
   "codemirror_mode": {
    "name": "ipython",
    "version": 3
   },
   "file_extension": ".py",
   "mimetype": "text/x-python",
   "name": "python",
   "nbconvert_exporter": "python",
   "pygments_lexer": "ipython3",
   "version": "3.12.0"
  }
 },
 "nbformat": 4,
 "nbformat_minor": 4
}

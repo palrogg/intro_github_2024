{
 "cells": [
  {
   "cell_type": "markdown",
   "metadata": {},
   "source": [
    "## Do Now\n",
    "\n",
    "Chacune des cellules suivantes contiennent une ou plusieurs erreurs, des variantes de l’exercice précédent. Trouvez comment les réparer."
   ]
  },
  {
   "cell_type": "code",
   "execution_count": 1,
   "metadata": {},
   "outputs": [
    {
     "ename": "SyntaxError",
     "evalue": "invalid character '×' (U+00D7) (243654259.py, line 2)",
     "output_type": "error",
     "traceback": [
      "\u001b[1;36m  Cell \u001b[1;32mIn[1], line 2\u001b[1;36m\u001b[0m\n\u001b[1;33m    salaire_annuel = salaire_mensuel × 13\u001b[0m\n\u001b[1;37m                                     ^\u001b[0m\n\u001b[1;31mSyntaxError\u001b[0m\u001b[1;31m:\u001b[0m invalid character '×' (U+00D7)\n"
     ]
    }
   ],
   "source": [
    "salaire_mensuel = 5000\n",
    "salaire_annuel = salaire_mensuel × 13"
   ]
  },
  {
   "cell_type": "code",
   "execution_count": null,
   "metadata": {},
   "outputs": [],
   "source": [
    "salaire_mensuel = 5000\n",
    "salaire_annuel = salaire_mensuel * 13\n"
   ]
  },
  {
   "cell_type": "code",
   "execution_count": null,
   "metadata": {},
   "outputs": [
    {
     "ename": "TypeError",
     "evalue": "can only concatenate str (not \"int\") to str",
     "output_type": "error",
     "traceback": [
      "\u001b[1;31m---------------------------------------------------------------------------\u001b[0m",
      "\u001b[1;31mTypeError\u001b[0m                                 Traceback (most recent call last)",
      "\u001b[1;32mc:\\Users\\sagede\\Documents\\GitHub\\intro_github_2024\\DoNow_erreurs.ipynb Cell 4\u001b[0m line \u001b[0;36m5\n\u001b[0;32m      <a href='vscode-notebook-cell:/c%3A/Users/sagede/Documents/GitHub/intro_github_2024/DoNow_erreurs.ipynb#W2sZmlsZQ%3D%3D?line=0'>1</a>\u001b[0m no_page \u001b[39m=\u001b[39m \u001b[39m121\u001b[39m\n\u001b[0;32m      <a href='vscode-notebook-cell:/c%3A/Users/sagede/Documents/GitHub/intro_github_2024/DoNow_erreurs.ipynb#W2sZmlsZQ%3D%3D?line=1'>2</a>\u001b[0m phrase \u001b[39m=\u001b[39m \u001b[39m\"\"\"\u001b[39m\u001b[39mPar exemple, il y eut là un fameux coup de fourchette:\u001b[39m\n\u001b[0;32m      <a href='vscode-notebook-cell:/c%3A/Users/sagede/Documents/GitHub/intro_github_2024/DoNow_erreurs.ipynb#W2sZmlsZQ%3D%3D?line=2'>3</a>\u001b[0m \u001b[39mc’est-à-dire que personne de la société ne se souvenait de s’être\u001b[39m\n\u001b[0;32m      <a href='vscode-notebook-cell:/c%3A/Users/sagede/Documents/GitHub/intro_github_2024/DoNow_erreurs.ipynb#W2sZmlsZQ%3D%3D?line=3'>4</a>\u001b[0m \u001b[39mjamais collé une pareille indigestion sur la conscience.\u001b[39m\u001b[39m\"\"\"\u001b[39m\n\u001b[1;32m----> <a href='vscode-notebook-cell:/c%3A/Users/sagede/Documents/GitHub/intro_github_2024/DoNow_erreurs.ipynb#W2sZmlsZQ%3D%3D?line=4'>5</a>\u001b[0m \u001b[39mprint\u001b[39m(\u001b[39m\"\u001b[39;49m\u001b[39mPage \u001b[39;49m\u001b[39m\"\u001b[39;49m \u001b[39m+\u001b[39;49m no_page \u001b[39m+\u001b[39m \u001b[39m\"\u001b[39m\u001b[39m: \u001b[39m\u001b[39m\"\u001b[39m \u001b[39m+\u001b[39m phrase)\n",
      "\u001b[1;31mTypeError\u001b[0m: can only concatenate str (not \"int\") to str"
     ]
    }
   ],
   "source": [
    "no_page = 121\n",
    "phrase = \"\"\"Par exemple, il y eut là un fameux coup de fourchette:\n",
    "c’est-à-dire que personne de la société ne se souvenait de s’être\n",
    "jamais collé une pareille indigestion sur la conscience.\"\"\"\n",
    "print(\"Page \" + no_page + \": \" + phrase)"
   ]
  },
  {
   "cell_type": "code",
   "execution_count": null,
   "metadata": {},
   "outputs": [
    {
     "ename": "TypeError",
     "evalue": "'str' object is not callable",
     "output_type": "error",
     "traceback": [
      "\u001b[1;31m---------------------------------------------------------------------------\u001b[0m",
      "\u001b[1;31mTypeError\u001b[0m                                 Traceback (most recent call last)",
      "\u001b[1;32mc:\\Users\\sagede\\Documents\\GitHub\\intro_github_2024\\DoNow_erreurs.ipynb Cell 5\u001b[0m line \u001b[0;36m5\n\u001b[0;32m      <a href='vscode-notebook-cell:/c%3A/Users/sagede/Documents/GitHub/intro_github_2024/DoNow_erreurs.ipynb#X11sZmlsZQ%3D%3D?line=0'>1</a>\u001b[0m no_page \u001b[39m=\u001b[39m \u001b[39m121\u001b[39m\n\u001b[0;32m      <a href='vscode-notebook-cell:/c%3A/Users/sagede/Documents/GitHub/intro_github_2024/DoNow_erreurs.ipynb#X11sZmlsZQ%3D%3D?line=1'>2</a>\u001b[0m phrase \u001b[39m=\u001b[39m \u001b[39m\"\"\"\u001b[39m\u001b[39mPar exemple, il y eut là un fameux coup de fourchette:\u001b[39m\n\u001b[0;32m      <a href='vscode-notebook-cell:/c%3A/Users/sagede/Documents/GitHub/intro_github_2024/DoNow_erreurs.ipynb#X11sZmlsZQ%3D%3D?line=2'>3</a>\u001b[0m \u001b[39mc’est-à-dire que personne de la société ne se souvenait de s’être\u001b[39m\n\u001b[0;32m      <a href='vscode-notebook-cell:/c%3A/Users/sagede/Documents/GitHub/intro_github_2024/DoNow_erreurs.ipynb#X11sZmlsZQ%3D%3D?line=3'>4</a>\u001b[0m \u001b[39mjamais collé une pareille indigestion sur la conscience.\u001b[39m\u001b[39m\"\"\"\u001b[39m\n\u001b[1;32m----> <a href='vscode-notebook-cell:/c%3A/Users/sagede/Documents/GitHub/intro_github_2024/DoNow_erreurs.ipynb#X11sZmlsZQ%3D%3D?line=4'>5</a>\u001b[0m \u001b[39mprint\u001b[39;49m(\u001b[39m\"\u001b[39;49m\u001b[39mPage \u001b[39;49m\u001b[39m\"\u001b[39;49m, no_page, \u001b[39m\"\u001b[39;49m\u001b[39m: \u001b[39;49m\u001b[39m\"\u001b[39;49m, phrase)\n",
      "\u001b[1;31mTypeError\u001b[0m: 'str' object is not callable"
     ]
    }
   ],
   "source": [
    "no_page = 121\n",
    "phrase = \"\"\"Par exemple, il y eut là un fameux coup de fourchette:\n",
    "c’est-à-dire que personne de la société ne se souvenait de s’être\n",
    "jamais collé une pareille indigestion sur la conscience.\"\"\"\n",
    "print(\"Page \", no_page, \": \", phrase)"
   ]
  },
  {
   "cell_type": "code",
   "execution_count": null,
   "metadata": {},
   "outputs": [
    {
     "ename": "SyntaxError",
     "evalue": "invalid non-printable character U+00A0 (4120427579.py, line 1)",
     "output_type": "error",
     "traceback": [
      "\u001b[1;36m  Cell \u001b[1;32mIn[5], line 1\u001b[1;36m\u001b[0m\n\u001b[1;33m    nouvel_inscrit = 'Ron'\u001b[0m\n\u001b[1;37m                  ^\u001b[0m\n\u001b[1;31mSyntaxError\u001b[0m\u001b[1;31m:\u001b[0m invalid non-printable character U+00A0\n"
     ]
    }
   ],
   "source": [
    "nouvel_inscrit = 'Ron'\n",
    "inscrits = ['Roger', 'Robert', 'Romuald', 'Roland', 'Robin\", 'Régis']\n",
    "inscrits.append('Ron')"
   ]
  },
  {
   "cell_type": "code",
   "execution_count": null,
   "metadata": {},
   "outputs": [],
   "source": [
    "nouvel_inscrit = \"Ron\"\n",
    "inscrits = ['Roger', 'Robert', 'Romuald', 'Roland', 'Robin', 'Régis']\n",
    "inscrits.append(nouvel_inscrit)"
   ]
  },
  {
   "cell_type": "code",
   "execution_count": 5,
   "metadata": {},
   "outputs": [
    {
     "ename": "TypeError",
     "evalue": "'str' object is not callable",
     "output_type": "error",
     "traceback": [
      "\u001b[1;31m---------------------------------------------------------------------------\u001b[0m",
      "\u001b[1;31mTypeError\u001b[0m                                 Traceback (most recent call last)",
      "\u001b[1;32mc:\\Users\\sagede\\Documents\\GitHub\\intro_github_2024\\DoNow_erreurs.ipynb Cell 8\u001b[0m line \u001b[0;36m3\n\u001b[0;32m      <a href='vscode-notebook-cell:/c%3A/Users/sagede/Documents/GitHub/intro_github_2024/DoNow_erreurs.ipynb#W4sZmlsZQ%3D%3D?line=0'>1</a>\u001b[0m \u001b[39mprint\u001b[39m \u001b[39m=\u001b[39m \u001b[39m\"\u001b[39m\u001b[39mImportations d’énergie\u001b[39m\u001b[39m\"\u001b[39m\n\u001b[0;32m      <a href='vscode-notebook-cell:/c%3A/Users/sagede/Documents/GitHub/intro_github_2024/DoNow_erreurs.ipynb#W4sZmlsZQ%3D%3D?line=1'>2</a>\u001b[0m total_months \u001b[39m=\u001b[39m \u001b[39m3\u001b[39m\n\u001b[1;32m----> <a href='vscode-notebook-cell:/c%3A/Users/sagede/Documents/GitHub/intro_github_2024/DoNow_erreurs.ipynb#W4sZmlsZQ%3D%3D?line=2'>3</a>\u001b[0m \u001b[39mprint\u001b[39;49m(\u001b[39m\"\u001b[39;49m\u001b[39mEn 2019, la Suisse a importé de l’électricité durant \u001b[39;49m\u001b[39m\"\u001b[39;49m \u001b[39m+\u001b[39;49m \u001b[39mstr\u001b[39;49m(total_months) \u001b[39m+\u001b[39;49m \u001b[39m\"\u001b[39;49m\u001b[39m mois de l’année\u001b[39;49m\u001b[39m\"\u001b[39;49m)\n",
      "\u001b[1;31mTypeError\u001b[0m: 'str' object is not callable"
     ]
    }
   ],
   "source": [
    "print = \"Importations d’énergie\"\n",
    "total_months = 3\n",
    "print(\"En 2019, la Suisse a importé de l’électricité durant \" + str(total_months) + \" mois de l’année\")"
   ]
  },
  {
   "cell_type": "code",
   "execution_count": 4,
   "metadata": {},
   "outputs": [
    {
     "name": "stdout",
     "output_type": "stream",
     "text": [
      "En 2019, la Suisse a importé de l’électricité durant 3 mois de l’année\n"
     ]
    }
   ],
   "source": [
    "titre = \"Importations d’énergie\"\n",
    "total_months = 3\n",
    "print(\"En 2019, la Suisse a importé de l’électricité durant \" + str(total_months) + \" mois de l’année\")"
   ]
  },
  {
   "cell_type": "code",
   "execution_count": null,
   "metadata": {},
   "outputs": [],
   "source": [
    "nombre1 = 150\n",
    "nombre2 = 250.\n",
    "nombre3 = .0\n",
    "nombre4 = 2,\n",
    "addition = nombre1 + nombre2 + nombre3 + nombre4\n",
    "print('Le résultat est', addition)"
   ]
  },
  {
   "cell_type": "code",
   "execution_count": 3,
   "metadata": {},
   "outputs": [
    {
     "name": "stdout",
     "output_type": "stream",
     "text": [
      "Le résultat est 402.0\n"
     ]
    }
   ],
   "source": [
    "nombre1 = 150\n",
    "nombre2 = 250.\n",
    "nombre3 = .0\n",
    "nombre4 = 2\n",
    "addition = nombre1 + nombre2 + nombre3 + nombre4\n",
    "print('Le résultat est', addition)"
   ]
  }
 ],
 "metadata": {
  "kernelspec": {
   "display_name": "cpe2023",
   "language": "python",
   "name": "python3"
  },
  "language_info": {
   "codemirror_mode": {
    "name": "ipython",
    "version": 3
   },
   "file_extension": ".py",
   "mimetype": "text/x-python",
   "name": "python",
   "nbconvert_exporter": "python",
   "pygments_lexer": "ipython3",
   "version": "3.12.0"
  }
 },
 "nbformat": 4,
 "nbformat_minor": 4
}
